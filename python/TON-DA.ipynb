{
 "cells": [
  {
   "cell_type": "code",
   "execution_count": 1,
   "id": "37358dfb",
   "metadata": {},
   "outputs": [
    {
     "name": "stdout",
     "output_type": "stream",
     "text": [
      "Requirement already satisfied: requests in /opt/homebrew/Caskroom/miniforge/base/envs/ton/lib/python3.8/site-packages (2.31.0)\r\n",
      "Requirement already satisfied: charset-normalizer<4,>=2 in /opt/homebrew/Caskroom/miniforge/base/envs/ton/lib/python3.8/site-packages (from requests) (3.3.2)\r\n",
      "Requirement already satisfied: idna<4,>=2.5 in /opt/homebrew/Caskroom/miniforge/base/envs/ton/lib/python3.8/site-packages (from requests) (3.7)\r\n",
      "Requirement already satisfied: urllib3<3,>=1.21.1 in /opt/homebrew/Caskroom/miniforge/base/envs/ton/lib/python3.8/site-packages (from requests) (2.2.1)\r\n",
      "Requirement already satisfied: certifi>=2017.4.17 in /opt/homebrew/Caskroom/miniforge/base/envs/ton/lib/python3.8/site-packages (from requests) (2024.2.2)\r\n"
     ]
    }
   ],
   "source": [
    "!pip install requests"
   ]
  },
  {
   "cell_type": "code",
   "execution_count": 2,
   "id": "db28c1f7",
   "metadata": {},
   "outputs": [
    {
     "name": "stdout",
     "output_type": "stream",
     "text": [
      "Requirement already satisfied: pandas in /opt/homebrew/Caskroom/miniforge/base/envs/ton/lib/python3.8/site-packages (2.0.3)\n",
      "Requirement already satisfied: python-dateutil>=2.8.2 in /opt/homebrew/Caskroom/miniforge/base/envs/ton/lib/python3.8/site-packages (from pandas) (2.9.0)\n",
      "Requirement already satisfied: pytz>=2020.1 in /opt/homebrew/Caskroom/miniforge/base/envs/ton/lib/python3.8/site-packages (from pandas) (2024.1)\n",
      "Requirement already satisfied: tzdata>=2022.1 in /opt/homebrew/Caskroom/miniforge/base/envs/ton/lib/python3.8/site-packages (from pandas) (2024.1)\n",
      "Requirement already satisfied: numpy>=1.20.3 in /opt/homebrew/Caskroom/miniforge/base/envs/ton/lib/python3.8/site-packages (from pandas) (1.24.4)\n",
      "Requirement already satisfied: six>=1.5 in /opt/homebrew/Caskroom/miniforge/base/envs/ton/lib/python3.8/site-packages (from python-dateutil>=2.8.2->pandas) (1.16.0)\n"
     ]
    }
   ],
   "source": [
    "!pip install pandas"
   ]
  },
  {
   "cell_type": "code",
   "execution_count": 2,
   "id": "c5372383",
   "metadata": {},
   "outputs": [],
   "source": [
    "import requests\n",
    "import time\n",
    "from datetime import datetime, timedelta\n",
    "import pandas as pd"
   ]
  },
  {
   "cell_type": "code",
   "execution_count": 4,
   "id": "4aa1c96c",
   "metadata": {},
   "outputs": [
    {
     "name": "stdout",
     "output_type": "stream",
     "text": [
      "[start_day, end_day] [ 2024-04-28 00:00:00 2024-04-29 00:00:00 ]\n",
      "transactions load [ 0 256 ] offset 0\n",
      "transactions load [ 256 512 ] offset 256\n",
      "transactions load [ 512 768 ] offset 512\n",
      "transactions load [ 768 1024 ] offset 768\n",
      "transactions load [ 1024 1280 ] offset 1024\n",
      "transactions load [ 1280 1536 ] offset 1280\n",
      "transactions load [ 1536 1792 ] offset 1536\n",
      "transactions load [ 1792 2048 ] offset 1792\n",
      "transactions load [ 2048 2304 ] offset 2048\n",
      "transactions load [ 2304 2560 ] offset 2304\n",
      "transactions load [ 2560 2816 ] offset 2560\n",
      "transactions load [ 2816 3072 ] offset 2816\n",
      "transactions load [ 3072 3328 ] offset 3072\n",
      "transactions load [ 3328 3584 ] offset 3328\n",
      "transactions load [ 3584 3840 ] offset 3584\n",
      "transactions load [ 3840 4096 ] offset 3840\n",
      "transactions load [ 4096 4352 ] offset 4096\n",
      "transactions load [ 4352 4608 ] offset 4352\n",
      "transactions load [ 4608 4864 ] offset 4608\n",
      "transactions load [ 4864 5120 ] offset 4864\n",
      "transactions load [ 5120 5376 ] offset 5120\n",
      "transactions load [ 5376 5632 ] offset 5376\n",
      "transactions load [ 5632 5888 ] offset 5632\n",
      "transactions load [ 5888 6144 ] offset 5888\n",
      "transactions load [ 6144 6400 ] offset 6144\n",
      "transactions load [ 6400 6656 ] offset 6400\n",
      "transactions load [ 6656 6912 ] offset 6656\n",
      "transactions load [ 6912 7168 ] offset 6912\n",
      "transactions load [ 7168 7424 ] offset 7168\n",
      "transactions load [ 7424 7680 ] offset 7424\n",
      "transactions load [ 7680 7936 ] offset 7680\n",
      "transactions load [ 7936 8192 ] offset 7936\n",
      "transactions load [ 8192 8448 ] offset 8192\n",
      "transactions load [ 8448 8704 ] offset 8448\n",
      "transactions load [ 8704 8960 ] offset 8704\n",
      "transactions load [ 8960 9216 ] offset 8960\n",
      "transactions load [ 9216 9472 ] offset 9216\n",
      "transactions load [ 9472 9728 ] offset 9472\n",
      "transactions load [ 9728 9984 ] offset 9728\n",
      "transactions load [ 9984 10240 ] offset 9984\n",
      "transactions load [ 10240 10496 ] offset 10240\n",
      "transactions load [ 10496 10752 ] offset 10496\n",
      "transactions load [ 10752 11008 ] offset 10752\n",
      "transactions load [ 11008 11264 ] offset 11008\n",
      "transactions load [ 11264 11520 ] offset 11264\n",
      "transactions load [ 11520 11776 ] offset 11520\n",
      "transactions load [ 11776 12032 ] offset 11776\n",
      "transactions load [ 12032 12288 ] offset 12032\n",
      "transactions load [ 12288 12544 ] offset 12288\n",
      "transactions load [ 12544 12800 ] offset 12544\n",
      "transactions load [ 12800 13056 ] offset 12800\n",
      "transactions load [ 13056 13312 ] offset 13056\n",
      "transactions load [ 13312 13568 ] offset 13312\n",
      "transactions load [ 13568 13824 ] offset 13568\n",
      "transactions load [ 13824 14080 ] offset 13824\n",
      "transactions load [ 14080 14336 ] offset 14080\n",
      "transactions load [ 14336 14592 ] offset 14336\n",
      "transactions load [ 14592 14848 ] offset 14592\n",
      "transactions load [ 14848 15104 ] offset 14848\n",
      "transactions load [ 15104 15360 ] offset 15104\n",
      "transactions load [ 15360 15616 ] offset 15360\n",
      "transactions load [ 15616 15872 ] offset 15616\n",
      "transactions load [ 15872 16128 ] offset 15872\n",
      "transactions load [ 16128 16384 ] offset 16128\n",
      "transactions load [ 16384 16640 ] offset 16384\n",
      "transactions load [ 16640 16896 ] offset 16640\n",
      "transactions load [ 16896 17152 ] offset 16896\n",
      "transactions load [ 17152 17408 ] offset 17152\n",
      "transactions load [ 17408 17664 ] offset 17408\n",
      "transactions load [ 17664 17920 ] offset 17664\n",
      "transactions load [ 17920 18176 ] offset 17920\n",
      "transactions load [ 18176 18432 ] offset 18176\n",
      "transactions load [ 18432 18688 ] offset 18432\n",
      "transactions load [ 18688 18944 ] offset 18688\n",
      "transactions load [ 18944 19200 ] offset 18944\n",
      "transactions load [ 19200 19456 ] offset 19200\n",
      "transactions load [ 19456 19712 ] offset 19456\n",
      "transactions load [ 19712 19968 ] offset 19712\n",
      "transactions load [ 19968 20224 ] offset 19968\n",
      "transactions load [ 20224 20480 ] offset 20224\n",
      "transactions load [ 20480 20736 ] offset 20480\n",
      "transactions load [ 20736 20992 ] offset 20736\n",
      "transactions load [ 20992 21248 ] offset 20992\n",
      "transactions load [ 21248 21504 ] offset 21248\n"
     ]
    },
    {
     "ename": "KeyError",
     "evalue": "'transactions'",
     "output_type": "error",
     "traceback": [
      "\u001b[0;31m---------------------------------------------------------------------------\u001b[0m",
      "\u001b[0;31mKeyError\u001b[0m                                  Traceback (most recent call last)",
      "Cell \u001b[0;32mIn[4], line 63\u001b[0m\n\u001b[1;32m     61\u001b[0m         response \u001b[38;5;241m=\u001b[39m requests\u001b[38;5;241m.\u001b[39mget(url, params\u001b[38;5;241m=\u001b[39mparams)\n\u001b[1;32m     62\u001b[0m \u001b[38;5;66;03m#         print(response.json())\u001b[39;00m\n\u001b[0;32m---> 63\u001b[0m         temp_transactions \u001b[38;5;241m=\u001b[39m \u001b[43mresponse\u001b[49m\u001b[38;5;241;43m.\u001b[39;49m\u001b[43mjson\u001b[49m\u001b[43m(\u001b[49m\u001b[43m)\u001b[49m\u001b[43m[\u001b[49m\u001b[38;5;124;43m'\u001b[39;49m\u001b[38;5;124;43mtransactions\u001b[39;49m\u001b[38;5;124;43m'\u001b[39;49m\u001b[43m]\u001b[49m\n\u001b[1;32m     65\u001b[0m         transactions\u001b[38;5;241m.\u001b[39mextend(temp_transactions)\n\u001b[1;32m     66\u001b[0m         \u001b[38;5;28mprint\u001b[39m(\u001b[38;5;124m'\u001b[39m\u001b[38;5;124mtransactions load\u001b[39m\u001b[38;5;124m'\u001b[39m, \u001b[38;5;124m'\u001b[39m\u001b[38;5;124m[\u001b[39m\u001b[38;5;124m'\u001b[39m, \u001b[38;5;28mlen\u001b[39m(transactions) \u001b[38;5;241m-\u001b[39m \u001b[38;5;28mlen\u001b[39m(temp_transactions), \u001b[38;5;28mlen\u001b[39m(transactions), \u001b[38;5;124m'\u001b[39m\u001b[38;5;124m]\u001b[39m\u001b[38;5;124m'\u001b[39m, \u001b[38;5;124m'\u001b[39m\u001b[38;5;124moffset\u001b[39m\u001b[38;5;124m'\u001b[39m, offset)\n",
      "\u001b[0;31mKeyError\u001b[0m: 'transactions'"
     ]
    }
   ],
   "source": [
    "url = 'https://toncenter.com/api/v3/transactions'\n",
    "account = 'UQBj96aEiJlFV4Si16ajonjQRHf_OOb-80WXTOOUTHxd8h0a'\n",
    "api_key = 'XXXXXX'\n",
    "sort = 'asc'\n",
    "limit = 256\n",
    "offset = 0\n",
    "# 拉取数据数目 >= batch，则写入文件，避免内存超限\n",
    "batch = 100000000 # 1e8\n",
    "\n",
    "base_day_str = \"2024-4-28 00:00:00\"\n",
    "base_day = datetime.strptime(base_day_str, '%Y-%m-%d %H:%M:%S')\n",
    "start_day = base_day\n",
    "# add 1 day\n",
    "end_day = start_day + timedelta(days=1)\n",
    "\n",
    "stop_day_str = \"2024-5-28 00:00:00\"\n",
    "stop_day = datetime.strptime(stop_day_str, '%Y-%m-%d %H:%M:%S')\n",
    "\n",
    "# UTX_TIMESTAMP\n",
    "start_utime = int(start_day.timestamp()) # 1710432000\n",
    "end_utime = int(end_day.timestamp()) # 1710518400\n",
    "stop_utime = int(stop_day.timestamp()) # 1713974400\n",
    "\n",
    "# 更新时间窗口：更新 start_utime & end_utime，每次更新窗口往后 + (1 day)\n",
    "# 停止条件：当 end_utime 到达设定的截止时间时停止拉取数据\n",
    "# 写出数据条件：if len(transactions) > batch，导出数据到 excel\n",
    "# 时间窗口内拉数据方式:\n",
    "#    时间窗口内第一次拉取数据，offset = 0\n",
    "#    以后每一次新增则 offset += limit\n",
    "#    停止条件：获取数据量 < limit\n",
    "\n",
    "while end_utime <= stop_utime:\n",
    "    print('[start_day, end_day]', '[', start_day, end_day, ']')\n",
    "    offset = 0\n",
    "    transactions = []\n",
    "    params = {\n",
    "        'account': account,\n",
    "        'start_utime': start_utime,\n",
    "        'end_utime': end_utime,\n",
    "        'limit': limit,\n",
    "        'offset': offset,\n",
    "        'sort': sort,\n",
    "        'api_key': api_key}\n",
    "    \n",
    "    response = requests.get(url, params=params)\n",
    "    temp_transactions = response.json()['transactions']\n",
    "    transactions.extend(temp_transactions)\n",
    "    print('transactions load', '[', len(transactions) - len(temp_transactions), len(transactions), ']', 'offset', offset)\n",
    "    \n",
    "    while len(temp_transactions) >= limit:\n",
    "        offset = offset + limit\n",
    "        params = {\n",
    "            'account': account,\n",
    "            'start_utime': start_utime,\n",
    "            'end_utime': end_utime,\n",
    "            'limit': limit,\n",
    "            'offset': offset,\n",
    "            'sort': sort,\n",
    "            'api_key': api_key}\n",
    "        \n",
    "        response = requests.get(url, params=params)\n",
    "#         print(response.json())\n",
    "        temp_transactions = response.json()['transactions']\n",
    "        \n",
    "        transactions.extend(temp_transactions)\n",
    "        print('transactions load', '[', len(transactions) - len(temp_transactions), len(transactions), ']', 'offset', offset)\n",
    "             \n",
    "    \n",
    "    if len(transactions) > 0:\n",
    "        # 写出数据\n",
    "        df = pd.json_normalize(transactions)\n",
    "        # 创建一个Excel \n",
    "        with pd.ExcelWriter('./tonda.xlsx', mode='a', if_sheet_exists='replace') as writer:\n",
    "            df.to_excel(writer, index=False, sheet_name=start_day.strftime('%Y-%m-%d'))\n",
    "        print('save excel success')\n",
    "        \n",
    "    # 更新时间窗口\n",
    "    start_day = start_day + timedelta(days=1)\n",
    "    end_day = end_day + timedelta(days=1)\n",
    "    start_utime = int(start_day.timestamp())\n",
    "    end_utime = int(end_day.timestamp())"
   ]
  },
  {
   "cell_type": "code",
   "execution_count": null,
   "id": "5c5cfe90",
   "metadata": {},
   "outputs": [],
   "source": [
    "!ls"
   ]
  },
  {
   "cell_type": "code",
   "execution_count": null,
   "id": "a76da9c3",
   "metadata": {},
   "outputs": [],
   "source": [
    "base_day_str = \"2024-4-27\"\n",
    "base_day = datetime.strptime(base_day_str, '%Y-%m-%d')\n",
    "start_day = base_day\n",
    "# add 1 day\n",
    "next_day = start_day + timedelta(days=1)\n",
    "\n",
    "stop_day_str = \"2024-5-28\"\n",
    "stop_day = datetime.strptime(stop_day_str, '%Y-%m-%d')\n",
    "\n",
    "# UTX_TIMESTAMP\n",
    "start_utime = int(start_day.timestamp()) # 1710432000\n",
    "next_utime = int(next_day.timestamp()) # 1710518400\n",
    "stop_utime = int(stop_day.timestamp()) # 1713974400\n",
    "\n",
    "sheet_name = []\n",
    "\n",
    "while next_utime <= stop_utime:\n",
    "    sheet_name.append(start_day.strftime('%Y-%m-%d'))\n",
    "    \n",
    "    start_day = start_day + timedelta(days=1)\n",
    "    next_day = next_day + timedelta(days=1)\n",
    "    start_utime = int(start_day.timestamp())\n",
    "    next_utime = int(next_day.timestamp())"
   ]
  },
  {
   "cell_type": "code",
   "execution_count": null,
   "id": "3319a0da",
   "metadata": {},
   "outputs": [],
   "source": [
    "file_path = './tonda.xlsx'\n",
    "\n",
    "df = pd.DataFrame()\n",
    "\n",
    "sheets = pd.ExcelFile(file_path).sheet_names\n",
    "\n",
    "# 循环读取每个工作表的数据\n",
    "for sheet in sheets:\n",
    "    data = pd.read_excel(file_path, sheet_name=sheet)\n",
    "    df = pd.concat([df, data], ignore_index=True)\n",
    "#     all_data = all_data.append(data, ignore_index=False)"
   ]
  },
  {
   "cell_type": "code",
   "execution_count": 10,
   "id": "dc3f8dde",
   "metadata": {},
   "outputs": [
    {
     "data": {
      "text/plain": [
       "1710950386"
      ]
     },
     "execution_count": 10,
     "metadata": {},
     "output_type": "execute_result"
    }
   ],
   "source": [
    "int(df['in_msg.created_at'][0])"
   ]
  },
  {
   "cell_type": "code",
   "execution_count": 63,
   "id": "1cddf32c",
   "metadata": {},
   "outputs": [
    {
     "data": {
      "text/plain": [
       "335000.5"
      ]
     },
     "execution_count": 63,
     "metadata": {},
     "output_type": "execute_result"
    }
   ],
   "source": [
    "# 计算提现金额\n",
    "# 筛选出 in_msg.created_at 为 NaN 且 out_msg.created_at 不为 NaN 的行\n",
    "filtered_df = df[df['in_msg.created_at'].isna()].reset_index()\n",
    "\n",
    "# temp = eval(filtered_df['out_msgs'][5])\n",
    "\n",
    "# temp[0]['value']\n",
    "\n",
    "values = [int(eval(x)[0]['value'])/1000000000 for x in filtered_df['out_msgs']]\n",
    "# [datetime.utcfromtimestamp(x).date() for x in filtered_df['now']]\n",
    "# df['date'] = df['in_msg.created_at'].apply(lambda x: datetime.utcfromtimestamp(x).date())\n",
    "\n",
    "# 求和所有 TON 收入\n",
    "sum(values)"
   ]
  },
  {
   "cell_type": "code",
   "execution_count": 3,
   "id": "d5668d1d",
   "metadata": {},
   "outputs": [],
   "source": [
    "# 计算收入流水\n",
    "filtered_df = df[~df['in_msg.created_at'].isna()].reset_index()\n",
    "filtered_df['date'] = filtered_df['in_msg.created_at'].apply(lambda x: datetime.utcfromtimestamp(x).date())\n",
    "# filtered_df['date']\n",
    "\n",
    "date_df = filtered_df.groupby('date')['in_msg.value'].sum()/1000000000"
   ]
  },
  {
   "cell_type": "code",
   "execution_count": 6,
   "id": "b9161771",
   "metadata": {},
   "outputs": [
    {
     "name": "stdout",
     "output_type": "stream",
     "text": [
      "Collecting matplotlib\n",
      "  Downloading matplotlib-3.7.5-cp38-cp38-macosx_11_0_arm64.whl.metadata (5.7 kB)\n",
      "Collecting contourpy>=1.0.1 (from matplotlib)\n",
      "  Downloading contourpy-1.1.1-cp38-cp38-macosx_11_0_arm64.whl.metadata (5.9 kB)\n",
      "Collecting cycler>=0.10 (from matplotlib)\n",
      "  Downloading cycler-0.12.1-py3-none-any.whl.metadata (3.8 kB)\n",
      "Collecting fonttools>=4.22.0 (from matplotlib)\n",
      "  Downloading fonttools-4.51.0-cp38-cp38-macosx_10_9_universal2.whl.metadata (159 kB)\n",
      "\u001b[2K     \u001b[38;2;114;156;31m━━━━━━━━━━━━━━━━━━━━━━━━━━━━━━━━━━━━━\u001b[0m \u001b[32m159.5/159.5 kB\u001b[0m \u001b[31m338.9 kB/s\u001b[0m eta \u001b[36m0:00:00\u001b[0m1m274.5 kB/s\u001b[0m eta \u001b[36m0:00:01\u001b[0m\n",
      "\u001b[?25hCollecting kiwisolver>=1.0.1 (from matplotlib)\n",
      "  Downloading kiwisolver-1.4.5-cp38-cp38-macosx_11_0_arm64.whl.metadata (6.4 kB)\n",
      "Requirement already satisfied: numpy<2,>=1.20 in /opt/homebrew/Caskroom/miniforge/base/envs/ton/lib/python3.8/site-packages (from matplotlib) (1.24.4)\n",
      "Requirement already satisfied: packaging>=20.0 in /opt/homebrew/Caskroom/miniforge/base/envs/ton/lib/python3.8/site-packages (from matplotlib) (24.0)\n",
      "Collecting pillow>=6.2.0 (from matplotlib)\n",
      "  Downloading pillow-10.3.0-cp38-cp38-macosx_11_0_arm64.whl.metadata (9.2 kB)\n",
      "Collecting pyparsing>=2.3.1 (from matplotlib)\n",
      "  Downloading pyparsing-3.1.2-py3-none-any.whl.metadata (5.1 kB)\n",
      "Requirement already satisfied: python-dateutil>=2.7 in /opt/homebrew/Caskroom/miniforge/base/envs/ton/lib/python3.8/site-packages (from matplotlib) (2.9.0)\n",
      "Collecting importlib-resources>=3.2.0 (from matplotlib)\n",
      "  Downloading importlib_resources-6.4.0-py3-none-any.whl.metadata (3.9 kB)\n",
      "Requirement already satisfied: zipp>=3.1.0 in /opt/homebrew/Caskroom/miniforge/base/envs/ton/lib/python3.8/site-packages (from importlib-resources>=3.2.0->matplotlib) (3.17.0)\n",
      "Requirement already satisfied: six>=1.5 in /opt/homebrew/Caskroom/miniforge/base/envs/ton/lib/python3.8/site-packages (from python-dateutil>=2.7->matplotlib) (1.16.0)\n",
      "Downloading matplotlib-3.7.5-cp38-cp38-macosx_11_0_arm64.whl (7.3 MB)\n",
      "\u001b[2K   \u001b[38;2;114;156;31m━━━━━━━━━━━━━━━━━━━━━━━━━━━━━━━━━━━━━━━━\u001b[0m \u001b[32m7.3/7.3 MB\u001b[0m \u001b[31m1.8 MB/s\u001b[0m eta \u001b[36m0:00:00\u001b[0mm eta \u001b[36m0:00:01\u001b[0m[36m0:00:01\u001b[0m0m\n",
      "\u001b[?25hDownloading contourpy-1.1.1-cp38-cp38-macosx_11_0_arm64.whl (232 kB)\n",
      "\u001b[2K   \u001b[38;2;114;156;31m━━━━━━━━━━━━━━━━━━━━━━━━━━━━━━━━━━━━━━━━\u001b[0m \u001b[32m232.4/232.4 kB\u001b[0m \u001b[31m36.7 kB/s\u001b[0m eta \u001b[36m0:00:00\u001b[0m kB/s\u001b[0m eta \u001b[36m0:00:01\u001b[0m:02\u001b[0m\n",
      "\u001b[?25hDownloading cycler-0.12.1-py3-none-any.whl (8.3 kB)\n",
      "Downloading fonttools-4.51.0-cp38-cp38-macosx_10_9_universal2.whl (2.8 MB)\n",
      "\u001b[2K   \u001b[38;2;114;156;31m━━━━━━━━━━━━━━━━━━━━━━━━━━━━━━━━━━━━━━━━\u001b[0m \u001b[32m2.8/2.8 MB\u001b[0m \u001b[31m332.5 kB/s\u001b[0m eta \u001b[36m0:00:00\u001b[0m[36m0:00:01\u001b[0m[36m0:00:01\u001b[0m:01\u001b[0m\n",
      "\u001b[?25hDownloading importlib_resources-6.4.0-py3-none-any.whl (38 kB)\n",
      "Downloading kiwisolver-1.4.5-cp38-cp38-macosx_11_0_arm64.whl (66 kB)\n",
      "\u001b[2K   \u001b[38;2;114;156;31m━━━━━━━━━━━━━━━━━━━━━━━━━━━━━━━━━━━━━━━━\u001b[0m \u001b[32m66.0/66.0 kB\u001b[0m \u001b[31m761.5 kB/s\u001b[0m eta \u001b[36m0:00:00\u001b[0m kB/s\u001b[0m eta \u001b[36m0:00:01\u001b[0m:01\u001b[0m\n",
      "\u001b[?25hDownloading pillow-10.3.0-cp38-cp38-macosx_11_0_arm64.whl (3.4 MB)\n",
      "\u001b[2K   \u001b[38;2;114;156;31m━━━━━━━━━━━━━━━━━━━━━━━━━━━━━━━━━━━━━━━━\u001b[0m \u001b[32m3.4/3.4 MB\u001b[0m \u001b[31m646.7 kB/s\u001b[0m eta \u001b[36m0:00:00\u001b[0m1m640.9 kB/s\u001b[0m eta \u001b[36m0:00:01\u001b[0m\n",
      "\u001b[?25hDownloading pyparsing-3.1.2-py3-none-any.whl (103 kB)\n",
      "\u001b[2K   \u001b[38;2;114;156;31m━━━━━━━━━━━━━━━━━━━━━━━━━━━━━━━━━━━━━━━\u001b[0m \u001b[32m103.2/103.2 kB\u001b[0m \u001b[31m880.1 kB/s\u001b[0m eta \u001b[36m0:00:00\u001b[0m1m1.2 MB/s\u001b[0m eta \u001b[36m0:00:01\u001b[0m\n",
      "\u001b[?25hInstalling collected packages: pyparsing, pillow, kiwisolver, importlib-resources, fonttools, cycler, contourpy, matplotlib\n",
      "Successfully installed contourpy-1.1.1 cycler-0.12.1 fonttools-4.51.0 importlib-resources-6.4.0 kiwisolver-1.4.5 matplotlib-3.7.5 pillow-10.3.0 pyparsing-3.1.2\n"
     ]
    }
   ],
   "source": [
    "!pip install matplotlib"
   ]
  },
  {
   "cell_type": "code",
   "execution_count": 24,
   "id": "2a9aa198",
   "metadata": {},
   "outputs": [
    {
     "name": "stdout",
     "output_type": "stream",
     "text": [
      "\u001b[31mERROR: Could not find a version that satisfies the requirement mdates (from versions: none)\u001b[0m\u001b[31m\r\n",
      "\u001b[0m\u001b[31mERROR: No matching distribution found for mdates\u001b[0m\u001b[31m\r\n",
      "\u001b[0m"
     ]
    }
   ],
   "source": [
    "!pip install mdates"
   ]
  },
  {
   "cell_type": "code",
   "execution_count": 25,
   "id": "1f35c1b8",
   "metadata": {},
   "outputs": [],
   "source": [
    "import matplotlib.pyplot as plt\n",
    "import matplotlib.dates as mdates"
   ]
  },
  {
   "cell_type": "code",
   "execution_count": 16,
   "id": "e6beb401",
   "metadata": {},
   "outputs": [],
   "source": [
    "# 将 Series 转换为 DataFrame,并将索引设置为日期\n",
    "date_df = pd.DataFrame({'value': date_df.values}, index=pd.to_datetime(date_df.index))"
   ]
  },
  {
   "cell_type": "code",
   "execution_count": 27,
   "id": "4a40124b",
   "metadata": {},
   "outputs": [
    {
     "data": {
      "image/png": "[encoded data removed]",
      "text/plain": [
       "<Figure size 1000x600 with 1 Axes>"
      ]
     },
     "metadata": {},
     "output_type": "display_data"
    }
   ],
   "source": [
    "# 绘制折线图\n",
    "# 绘制折线图\n",
    "fig, ax = plt.subplots(figsize=(10, 6))\n",
    "ax = date_df.plot(ax=ax)\n",
    "\n",
    "# 设置图表标题和轴标签\n",
    "plt.title('Income Trend', fontsize=16)\n",
    "plt.xlabel('Date', fontsize=1)\n",
    "plt.ylabel('Income/ton', fontsize=14)\n",
    "\n",
    "# 设置日期格式\n",
    "date_formatter = mdates.DateFormatter('%Y-%m-%d')\n",
    "ax.xaxis.set_major_formatter(date_formatter)\n",
    "\n",
    "# 旋转日期标签,防止重叠\n",
    "plt.gcf().autofmt_xdate()\n",
    "fig.autofmt_xdate(rotation=45)\n",
    "\n",
    "# 显示图表\n",
    "plt.show()"
   ]
  },
  {
   "cell_type": "code",
   "execution_count": 102,
   "id": "5ded1624",
   "metadata": {},
   "outputs": [
    {
     "data": {
      "text/plain": [
       "[<matplotlib.lines.Line2D at 0x13b5a46d0>]"
      ]
     },
     "execution_count": 102,
     "metadata": {},
     "output_type": "execute_result"
    },
    {
     "data": {
      "image/png": "[encoded data removed]",
      "text/plain": [
       "<Figure size 640x480 with 1 Axes>"
      ]
     },
     "metadata": {},
     "output_type": "display_data"
    }
   ],
   "source": [
    "# 累计打款额最高的 10 个账户地址，以及 打款金额\n",
    "\n",
    "grouped = filtered_df.groupby('in_msg.source')['in_msg.value'].sum().reset_index()\n",
    "\n",
    "grouped['value'] = grouped['in_msg.value'].apply(lambda x: x / 100000000)\n",
    "\n",
    "\n",
    "# 将 value 的和从大到小排序\n",
    "grouped = grouped.sort_values(by='in_msg.value', ascending=False).reset_index()\n",
    "\n",
    "# 取前 10 行\n",
    "top_10 = grouped.head(100).reset_index()\n",
    "\n",
    "head_group = grouped.head(200)\n",
    "plt.plot(head_group.index, head_group['value'])"
   ]
  },
  {
   "cell_type": "code",
   "execution_count": 103,
   "id": "6a6a65d8",
   "metadata": {},
   "outputs": [
    {
     "data": {
      "text/plain": [
       "1465.323"
      ]
     },
     "execution_count": 103,
     "metadata": {},
     "output_type": "execute_result"
    }
   ],
   "source": [
    "head_group['value'][199]"
   ]
  },
  {
   "cell_type": "code",
   "execution_count": 104,
   "id": "999b713e",
   "metadata": {},
   "outputs": [
    {
     "data": {
      "text/html": [
       "<div>\n",
       "<style scoped>\n",
       "    .dataframe tbody tr th:only-of-type {\n",
       "        vertical-align: middle;\n",
       "    }\n",
       "\n",
       "    .dataframe tbody tr th {\n",
       "        vertical-align: top;\n",
       "    }\n",
       "\n",
       "    .dataframe thead th {\n",
       "        text-align: right;\n",
       "    }\n",
       "</style>\n",
       "<table border=\"1\" class=\"dataframe\">\n",
       "  <thead>\n",
       "    <tr style=\"text-align: right;\">\n",
       "      <th></th>\n",
       "      <th>index</th>\n",
       "      <th>in_msg.source</th>\n",
       "      <th>in_msg.value</th>\n",
       "      <th>value</th>\n",
       "    </tr>\n",
       "  </thead>\n",
       "  <tbody>\n",
       "    <tr>\n",
       "      <th>0</th>\n",
       "      <td>41359</td>\n",
       "      <td>0:64B05D30B4B92E28A23B21BB5FE4B189163B73023FFD...</td>\n",
       "      <td>3.784155e+12</td>\n",
       "      <td>3.784155e+04</td>\n",
       "    </tr>\n",
       "    <tr>\n",
       "      <th>1</th>\n",
       "      <td>76255</td>\n",
       "      <td>0:BA6B6A49C2C2AA9913EF03EC183A29B385342DD90B51...</td>\n",
       "      <td>2.386180e+12</td>\n",
       "      <td>2.386180e+04</td>\n",
       "    </tr>\n",
       "    <tr>\n",
       "      <th>2</th>\n",
       "      <td>22617</td>\n",
       "      <td>0:375999E02FE064DCAA37E2134092689C0569A7D0FF6B...</td>\n",
       "      <td>2.273454e+12</td>\n",
       "      <td>2.273454e+04</td>\n",
       "    </tr>\n",
       "    <tr>\n",
       "      <th>3</th>\n",
       "      <td>89526</td>\n",
       "      <td>0:DB4D2E89A4AE53CF63A03072F70908053EBB36B068EC...</td>\n",
       "      <td>1.940032e+12</td>\n",
       "      <td>1.940031e+04</td>\n",
       "    </tr>\n",
       "    <tr>\n",
       "      <th>4</th>\n",
       "      <td>104153</td>\n",
       "      <td>0:FEF8FF08F4352C3D6E82ECE6F626134DE61099AE41A8...</td>\n",
       "      <td>1.656604e+12</td>\n",
       "      <td>1.656604e+04</td>\n",
       "    </tr>\n",
       "    <tr>\n",
       "      <th>...</th>\n",
       "      <td>...</td>\n",
       "      <td>...</td>\n",
       "      <td>...</td>\n",
       "      <td>...</td>\n",
       "    </tr>\n",
       "    <tr>\n",
       "      <th>104572</th>\n",
       "      <td>70093</td>\n",
       "      <td>0:AB6E988E452E98EFBF95D0A6C9B6F1EFAFBF61AA16D0...</td>\n",
       "      <td>1.000000e+00</td>\n",
       "      <td>1.000000e-08</td>\n",
       "    </tr>\n",
       "    <tr>\n",
       "      <th>104573</th>\n",
       "      <td>64329</td>\n",
       "      <td>0:9D3BE25F2852FC61090C59602865792493B6CA91371E...</td>\n",
       "      <td>1.000000e+00</td>\n",
       "      <td>1.000000e-08</td>\n",
       "    </tr>\n",
       "    <tr>\n",
       "      <th>104574</th>\n",
       "      <td>38616</td>\n",
       "      <td>0:5DEC6425590EF51FDBFF8C1DCFA3F94B6D5E70901CD8...</td>\n",
       "      <td>1.000000e+00</td>\n",
       "      <td>1.000000e-08</td>\n",
       "    </tr>\n",
       "    <tr>\n",
       "      <th>104575</th>\n",
       "      <td>75689</td>\n",
       "      <td>0:B8F854D6CBAACDE7621E717EAA20C85EA6AFF2663500...</td>\n",
       "      <td>1.000000e+00</td>\n",
       "      <td>1.000000e-08</td>\n",
       "    </tr>\n",
       "    <tr>\n",
       "      <th>104576</th>\n",
       "      <td>54609</td>\n",
       "      <td>0:85091E55BA7100583D27419CB78088FE4A13FA7C2EF4...</td>\n",
       "      <td>1.000000e+00</td>\n",
       "      <td>1.000000e-08</td>\n",
       "    </tr>\n",
       "  </tbody>\n",
       "</table>\n",
       "<p>104577 rows × 4 columns</p>\n",
       "</div>"
      ],
      "text/plain": [
       "         index                                      in_msg.source  \\\n",
       "0        41359  0:64B05D30B4B92E28A23B21BB5FE4B189163B73023FFD...   \n",
       "1        76255  0:BA6B6A49C2C2AA9913EF03EC183A29B385342DD90B51...   \n",
       "2        22617  0:375999E02FE064DCAA37E2134092689C0569A7D0FF6B...   \n",
       "3        89526  0:DB4D2E89A4AE53CF63A03072F70908053EBB36B068EC...   \n",
       "4       104153  0:FEF8FF08F4352C3D6E82ECE6F626134DE61099AE41A8...   \n",
       "...        ...                                                ...   \n",
       "104572   70093  0:AB6E988E452E98EFBF95D0A6C9B6F1EFAFBF61AA16D0...   \n",
       "104573   64329  0:9D3BE25F2852FC61090C59602865792493B6CA91371E...   \n",
       "104574   38616  0:5DEC6425590EF51FDBFF8C1DCFA3F94B6D5E70901CD8...   \n",
       "104575   75689  0:B8F854D6CBAACDE7621E717EAA20C85EA6AFF2663500...   \n",
       "104576   54609  0:85091E55BA7100583D27419CB78088FE4A13FA7C2EF4...   \n",
       "\n",
       "        in_msg.value         value  \n",
       "0       3.784155e+12  3.784155e+04  \n",
       "1       2.386180e+12  2.386180e+04  \n",
       "2       2.273454e+12  2.273454e+04  \n",
       "3       1.940032e+12  1.940031e+04  \n",
       "4       1.656604e+12  1.656604e+04  \n",
       "...              ...           ...  \n",
       "104572  1.000000e+00  1.000000e-08  \n",
       "104573  1.000000e+00  1.000000e-08  \n",
       "104574  1.000000e+00  1.000000e-08  \n",
       "104575  1.000000e+00  1.000000e-08  \n",
       "104576  1.000000e+00  1.000000e-08  \n",
       "\n",
       "[104577 rows x 4 columns]"
      ]
     },
     "execution_count": 104,
     "metadata": {},
     "output_type": "execute_result"
    }
   ],
   "source": [
    "grouped"
   ]
  },
  {
   "cell_type": "code",
   "execution_count": null,
   "id": "6aea9ed9",
   "metadata": {},
   "outputs": [],
   "source": []
  },
  {
   "cell_type": "code",
   "execution_count": 106,
   "id": "8a32e7b2",
   "metadata": {},
   "outputs": [],
   "source": [
    "# 产品链接\n",
    "\n",
    "product_link = 'https://shopee.ph/New-ssppor123-Cute-Japanese-Muffin-Thick-Bottom-lncreased-Cool-Slippers-add-size-i.168671225.23819978195?xptdk=6dad6f78-b802-411b-a6c7-a2c2a906de76'"
   ]
  },
  {
   "cell_type": "code",
   "execution_count": 109,
   "id": "0de61b46",
   "metadata": {},
   "outputs": [
    {
     "name": "stdout",
     "output_type": "stream",
     "text": [
      "168671225.23819978195\n"
     ]
    },
    {
     "data": {
      "text/plain": [
       "'168671225/23819978195'"
      ]
     },
     "execution_count": 109,
     "metadata": {},
     "output_type": "execute_result"
    }
   ],
   "source": [
    "def find_substring_between(string, start, end):\n",
    "    start_index = string.find(start)\n",
    "    if start_index == -1:\n",
    "        return \"\"  # Start character not found\n",
    "\n",
    "    end_index = string.find(end, start_index + len(start))\n",
    "    if end_index == -1:\n",
    "        return \"\"  # End character not found\n",
    "\n",
    "    return string[start_index + len(start):end_index]\n",
    "\n",
    "# Example usage\n",
    "start_char = \"i.\"\n",
    "end_char = \"?\"\n",
    "\n",
    "substring = find_substring_between(product_link, start_char, end_char)\n",
    "print(substring)  # Output: \" Thi\"\n",
    "substring.replace('.', '/')"
   ]
  },
  {
   "cell_type": "code",
   "execution_count": 143,
   "id": "874c09c5",
   "metadata": {},
   "outputs": [],
   "source": [
    "# coding:utf-8\n",
    "\"\"\"\n",
    "Compatible for python2.x and python3.x\n",
    "requirement: pip install requests\n",
    "\"\"\"\n",
    "from __future__ import print_function\n",
    "import requests\n",
    "import pandas as pd\n",
    "from datetime import datetime"
   ]
  },
  {
   "cell_type": "code",
   "execution_count": 144,
   "id": "1928e9b2",
   "metadata": {},
   "outputs": [],
   "source": [
    "# 请求示例 url 默认请求参数已经做URL编码\n",
    "url = \"https://api-gw.onebound.cn/shopee/item_get/?key=t5295518250&num_iid=168671225/23819978195&country=.ph&lang=zh-CN&secret=20240502\"\n",
    "headers = {\n",
    "    \"Accept-Encoding\": \"gzip\",\n",
    "    \"Connection\": \"close\"\n",
    "}\n",
    "r = requests.get(url, headers=headers)\n",
    "json_obj = r.json()\n",
    "skus = json_obj['item']['skus']['sku']\n",
    "title = json_obj['item']['title']"
   ]
  },
  {
   "cell_type": "code",
   "execution_count": 145,
   "id": "92ed5913",
   "metadata": {},
   "outputs": [],
   "source": [
    "df = pd.DataFrame(columns=[\"date\", \"title\", \"properties_name\", \"price\", \"quantity\"])"
   ]
  },
  {
   "cell_type": "code",
   "execution_count": 149,
   "id": "984b2f93",
   "metadata": {},
   "outputs": [],
   "source": [
    "rows = []\n",
    "\n",
    "for sku_info in skus:\n",
    "    properties_name = sku_info[\"properties_name\"]\n",
    "    price = sku_info[\"price\"]\n",
    "    quantity = sku_info[\"quantity\"]\n",
    "    \n",
    "    row = {\n",
    "        \"title\": title,\n",
    "        \"date\": datetime.now().date(),\n",
    "        \"properties_name\": properties_name,\n",
    "        \"price\": price,\n",
    "        \"quantity\": quantity    }\n",
    "    \n",
    "    rows.append(row)"
   ]
  },
  {
   "cell_type": "code",
   "execution_count": 150,
   "id": "e46bc19b",
   "metadata": {},
   "outputs": [],
   "source": [
    "df = pd.DataFrame(rows)"
   ]
  },
  {
   "cell_type": "code",
   "execution_count": 151,
   "id": "96b8a1a6",
   "metadata": {},
   "outputs": [],
   "source": [
    "df.to_excel('./shopee_compete_sku.xlsx')"
   ]
  },
  {
   "cell_type": "code",
   "execution_count": null,
   "id": "9304b782",
   "metadata": {},
   "outputs": [],
   "source": []
  }
 ],
 "metadata": {
  "kernelspec": {
   "display_name": "ton",
   "language": "python",
   "name": "ton"
  },
  "language_info": {
   "codemirror_mode": {
    "name": "ipython",
    "version": 3
   },
   "file_extension": ".py",
   "mimetype": "text/x-python",
   "name": "python",
   "nbconvert_exporter": "python",
   "pygments_lexer": "ipython3",
   "version": "3.8.19"
  }
 },
 "nbformat": 4,
 "nbformat_minor": 5
}
